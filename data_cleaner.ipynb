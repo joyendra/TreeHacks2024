{
 "cells": [
  {
   "cell_type": "code",
   "execution_count": 26,
   "metadata": {},
   "outputs": [],
   "source": [
    "from datasets import load_dataset, DatasetDict\n",
    "\n",
    "dataset = load_dataset(\"AdaptLLM/medicine-tasks\", name='USMLE')"
   ]
  },
  {
   "cell_type": "code",
   "execution_count": 27,
   "metadata": {},
   "outputs": [],
   "source": [
    "import pandas as pd\n",
    "\n",
    "df_dict = {}\n",
    "for split, ds in dataset.items():\n",
    "  df = pd.DataFrame(ds)\n",
    "  df_dict[split] = df\n"
   ]
  },
  {
   "cell_type": "code",
   "execution_count": 29,
   "metadata": {},
   "outputs": [
    {
     "data": {
      "text/html": [
       "<div>\n",
       "<style scoped>\n",
       "    .dataframe tbody tr th:only-of-type {\n",
       "        vertical-align: middle;\n",
       "    }\n",
       "\n",
       "    .dataframe tbody tr th {\n",
       "        vertical-align: top;\n",
       "    }\n",
       "\n",
       "    .dataframe thead th {\n",
       "        text-align: right;\n",
       "    }\n",
       "</style>\n",
       "<table border=\"1\" class=\"dataframe\">\n",
       "  <thead>\n",
       "    <tr style=\"text-align: right;\">\n",
       "      <th></th>\n",
       "      <th>input</th>\n",
       "      <th>output</th>\n",
       "    </tr>\n",
       "  </thead>\n",
       "  <tbody>\n",
       "    <tr>\n",
       "      <th>0</th>\n",
       "      <td>A 39-year-old woman is brought to the emergenc...</td>\n",
       "      <td>Lactose-fermenting, gram-negative rods forming...</td>\n",
       "    </tr>\n",
       "    <tr>\n",
       "      <th>1</th>\n",
       "      <td>What is the answer?\\nA 46-year-old man is brou...</td>\n",
       "      <td>Benzodiazepine intoxication\\n\"</td>\n",
       "    </tr>\n",
       "    <tr>\n",
       "      <th>2</th>\n",
       "      <td>Q: A 67-year-old man who was diagnosed with ar...</td>\n",
       "      <td>Psoriatic arthritis</td>\n",
       "    </tr>\n",
       "    <tr>\n",
       "      <th>3</th>\n",
       "      <td>A 56-year-old man with a history of hypertensi...</td>\n",
       "      <td>Aldosterone excess</td>\n",
       "    </tr>\n",
       "    <tr>\n",
       "      <th>4</th>\n",
       "      <td>Question: A 3-week-old male newborn is brought...</td>\n",
       "      <td>Transplacental passage of TSH receptor antibodies</td>\n",
       "    </tr>\n",
       "    <tr>\n",
       "      <th>...</th>\n",
       "      <td>...</td>\n",
       "      <td>...</td>\n",
       "    </tr>\n",
       "    <tr>\n",
       "      <th>1268</th>\n",
       "      <td>Q: A 32-year-old woman, gravida 2, para 0, at ...</td>\n",
       "      <td>“I'm sorry for your loss. This must be a diffi...</td>\n",
       "    </tr>\n",
       "    <tr>\n",
       "      <th>1269</th>\n",
       "      <td>Question: A 67-year-old woman with depression ...</td>\n",
       "      <td>Glycine</td>\n",
       "    </tr>\n",
       "    <tr>\n",
       "      <th>1270</th>\n",
       "      <td>Q: A 45-year-old woman presents to the physici...</td>\n",
       "      <td>Multiple endocrine neoplasia (MEN) 2A</td>\n",
       "    </tr>\n",
       "    <tr>\n",
       "      <th>1271</th>\n",
       "      <td>Answer the question\\nA 66-year-old man with hi...</td>\n",
       "      <td>Simvastatin</td>\n",
       "    </tr>\n",
       "    <tr>\n",
       "      <th>1272</th>\n",
       "      <td>Question: A 39-year-old woman presents to the ...</td>\n",
       "      <td>Thyroid-stimulating hormone (TSH)</td>\n",
       "    </tr>\n",
       "  </tbody>\n",
       "</table>\n",
       "<p>1273 rows × 2 columns</p>\n",
       "</div>"
      ],
      "text/plain": [
       "                                                  input  \\\n",
       "0     A 39-year-old woman is brought to the emergenc...   \n",
       "1     What is the answer?\\nA 46-year-old man is brou...   \n",
       "2     Q: A 67-year-old man who was diagnosed with ar...   \n",
       "3     A 56-year-old man with a history of hypertensi...   \n",
       "4     Question: A 3-week-old male newborn is brought...   \n",
       "...                                                 ...   \n",
       "1268  Q: A 32-year-old woman, gravida 2, para 0, at ...   \n",
       "1269  Question: A 67-year-old woman with depression ...   \n",
       "1270  Q: A 45-year-old woman presents to the physici...   \n",
       "1271  Answer the question\\nA 66-year-old man with hi...   \n",
       "1272  Question: A 39-year-old woman presents to the ...   \n",
       "\n",
       "                                                 output  \n",
       "0     Lactose-fermenting, gram-negative rods forming...  \n",
       "1                        Benzodiazepine intoxication\\n\"  \n",
       "2                                   Psoriatic arthritis  \n",
       "3                                    Aldosterone excess  \n",
       "4     Transplacental passage of TSH receptor antibodies  \n",
       "...                                                 ...  \n",
       "1268  “I'm sorry for your loss. This must be a diffi...  \n",
       "1269                                            Glycine  \n",
       "1270              Multiple endocrine neoplasia (MEN) 2A  \n",
       "1271                                        Simvastatin  \n",
       "1272                  Thyroid-stimulating hormone (TSH)  \n",
       "\n",
       "[1273 rows x 2 columns]"
      ]
     },
     "execution_count": 29,
     "metadata": {},
     "output_type": "execute_result"
    }
   ],
   "source": [
    "combined_df = pd.concat(df_dict.values(), ignore_index=True)\n",
    "combined_df = combined_df.drop('id', axis=1)\n",
    "combined_df['output'] = [array[index] for array, index in zip(combined_df['options'], combined_df['gold_index'])]\n",
    "combined_df = combined_df.drop(['options', 'gold_index'], axis=1)\n",
    "combined_df"
   ]
  },
  {
   "cell_type": "code",
   "execution_count": 33,
   "metadata": {},
   "outputs": [],
   "source": [
    "combined_df.to_csv('train.csv', index=False)"
   ]
  },
  {
   "cell_type": "code",
   "execution_count": 32,
   "metadata": {},
   "outputs": [
    {
     "data": {
      "text/plain": [
       "362"
      ]
     },
     "execution_count": 32,
     "metadata": {},
     "output_type": "execute_result"
    }
   ],
   "source": [
    "len(max(combined_df['input']))"
   ]
  },
  {
   "cell_type": "code",
   "execution_count": null,
   "metadata": {},
   "outputs": [],
   "source": []
  }
 ],
 "metadata": {
  "kernelspec": {
   "display_name": "base",
   "language": "python",
   "name": "python3"
  },
  "language_info": {
   "codemirror_mode": {
    "name": "ipython",
    "version": 3
   },
   "file_extension": ".py",
   "mimetype": "text/x-python",
   "name": "python",
   "nbconvert_exporter": "python",
   "pygments_lexer": "ipython3",
   "version": "3.11.4"
  }
 },
 "nbformat": 4,
 "nbformat_minor": 2
}
